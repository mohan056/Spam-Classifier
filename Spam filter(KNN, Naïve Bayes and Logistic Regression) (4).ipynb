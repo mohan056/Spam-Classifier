{
 "cells": [
  {
   "cell_type": "code",
   "execution_count": 1,
   "metadata": {},
   "outputs": [
    {
     "name": "stdout",
     "output_type": "stream",
     "text": [
      "[nltk_data] Downloading package stopwords to\n",
      "[nltk_data]     /Users/abhirajmohan/nltk_data...\n",
      "[nltk_data]   Package stopwords is already up-to-date!\n"
     ]
    }
   ],
   "source": [
    "import numpy as np\n",
    "import pandas as pd\n",
    "import nltk\n",
    "nltk.download('stopwords')\n",
    "import matplotlib.pyplot as plt\n",
    "import scipy.stats as stats\n",
    "from sklearn.feature_extraction.text import TfidfVectorizer\n",
    "from sklearn.naive_bayes import GaussianNB, MultinomialNB\n",
    "from sklearn.feature_selection import f_regression\n",
    "from sklearn.model_selection import train_test_split\n",
    "from sklearn.metrics import accuracy_score as acc\n",
    "from sklearn.linear_model import LogisticRegression\n",
    "from sklearn.neighbors import KNeighborsClassifier\n",
    "import statsmodels.api as sm\n",
    "from imblearn.over_sampling import SMOTE as smote\n",
    "from sklearn import metrics\n",
    "from sklearn.preprocessing import LabelEncoder\n",
    "from sklearn.datasets import load_svmlight_file\n",
    "from nltk.corpus import stopwords\n",
    "from nltk.tokenize import word_tokenize\n",
    "import string"
   ]
  },
  {
   "cell_type": "code",
   "execution_count": 2,
   "metadata": {},
   "outputs": [
    {
     "name": "stdout",
     "output_type": "stream",
     "text": [
      "     v1                                                 v2 Unnamed: 2  \\\n",
      "0   ham  Go until jurong point, crazy.. Available only ...        NaN   \n",
      "1   ham                      Ok lar... Joking wif u oni...        NaN   \n",
      "2  spam  Free entry in 2 a wkly comp to win FA Cup fina...        NaN   \n",
      "3   ham  U dun say so early hor... U c already then say...        NaN   \n",
      "4   ham  Nah I don't think he goes to usf, he lives aro...        NaN   \n",
      "\n",
      "  Unnamed: 3 Unnamed: 4  \n",
      "0        NaN        NaN  \n",
      "1        NaN        NaN  \n",
      "2        NaN        NaN  \n",
      "3        NaN        NaN  \n",
      "4        NaN        NaN  \n"
     ]
    }
   ],
   "source": [
    "corpus_data = pd.read_csv(\"spam.csv\", encoding='latin-1')\n",
    "print(corpus_data.head())"
   ]
  },
  {
   "cell_type": "markdown",
   "metadata": {},
   "source": [
    "After printing out the first five rows of our data set, we observe that the last three columns of the data set have unrecognizable values which cannot be used to train our models since they will not provide any important information. We also observe that each message has various stopwords that can be removed. This is believable considering how casual people are with their language when messaging each other. "
   ]
  },
  {
   "cell_type": "code",
   "execution_count": 3,
   "metadata": {},
   "outputs": [
    {
     "data": {
      "text/plain": [
       "(5572, 5)"
      ]
     },
     "execution_count": 3,
     "metadata": {},
     "output_type": "execute_result"
    }
   ],
   "source": [
    "corpus_data.shape"
   ]
  },
  {
   "cell_type": "markdown",
   "metadata": {},
   "source": [
    "The data set we wish to use contains 5572 rows which mean 5572 records. These many rows are more than enough to trian our models with. We will explore the class imbalance in our models in later on sections."
   ]
  },
  {
   "cell_type": "code",
   "execution_count": 4,
   "metadata": {},
   "outputs": [
    {
     "data": {
      "text/plain": [
       "['v1', 'v2', 'Unnamed: 2', 'Unnamed: 3', 'Unnamed: 4']"
      ]
     },
     "execution_count": 4,
     "metadata": {},
     "output_type": "execute_result"
    }
   ],
   "source": [
    "corpus_data.columns.tolist()"
   ]
  },
  {
   "cell_type": "markdown",
   "metadata": {},
   "source": [
    "Out of these columns, we care only about v1 and v2. The last three columns we do not care about and will remove."
   ]
  },
  {
   "cell_type": "markdown",
   "metadata": {},
   "source": [
    "# Exploratory Data Analysis\n",
    "After we explore in our data set, there are significant changes we need to make to our data set before we can train our classifier models using this data. First, since we noticed that the last three columns of our data set are useless to training our model, we remove those columns. We do this so that training our models is more optimal run-time wise."
   ]
  },
  {
   "cell_type": "code",
   "execution_count": 5,
   "metadata": {},
   "outputs": [
    {
     "data": {
      "text/html": [
       "<div>\n",
       "<style scoped>\n",
       "    .dataframe tbody tr th:only-of-type {\n",
       "        vertical-align: middle;\n",
       "    }\n",
       "\n",
       "    .dataframe tbody tr th {\n",
       "        vertical-align: top;\n",
       "    }\n",
       "\n",
       "    .dataframe thead th {\n",
       "        text-align: right;\n",
       "    }\n",
       "</style>\n",
       "<table border=\"1\" class=\"dataframe\">\n",
       "  <thead>\n",
       "    <tr style=\"text-align: right;\">\n",
       "      <th></th>\n",
       "      <th>v1</th>\n",
       "      <th>v2</th>\n",
       "    </tr>\n",
       "  </thead>\n",
       "  <tbody>\n",
       "    <tr>\n",
       "      <th>0</th>\n",
       "      <td>ham</td>\n",
       "      <td>Go until jurong point, crazy.. Available only ...</td>\n",
       "    </tr>\n",
       "    <tr>\n",
       "      <th>1</th>\n",
       "      <td>ham</td>\n",
       "      <td>Ok lar... Joking wif u oni...</td>\n",
       "    </tr>\n",
       "    <tr>\n",
       "      <th>2</th>\n",
       "      <td>spam</td>\n",
       "      <td>Free entry in 2 a wkly comp to win FA Cup fina...</td>\n",
       "    </tr>\n",
       "    <tr>\n",
       "      <th>3</th>\n",
       "      <td>ham</td>\n",
       "      <td>U dun say so early hor... U c already then say...</td>\n",
       "    </tr>\n",
       "    <tr>\n",
       "      <th>4</th>\n",
       "      <td>ham</td>\n",
       "      <td>Nah I don't think he goes to usf, he lives aro...</td>\n",
       "    </tr>\n",
       "  </tbody>\n",
       "</table>\n",
       "</div>"
      ],
      "text/plain": [
       "     v1                                                 v2\n",
       "0   ham  Go until jurong point, crazy.. Available only ...\n",
       "1   ham                      Ok lar... Joking wif u oni...\n",
       "2  spam  Free entry in 2 a wkly comp to win FA Cup fina...\n",
       "3   ham  U dun say so early hor... U c already then say...\n",
       "4   ham  Nah I don't think he goes to usf, he lives aro..."
      ]
     },
     "execution_count": 5,
     "metadata": {},
     "output_type": "execute_result"
    }
   ],
   "source": [
    "corpus_data = corpus_data.drop([\"Unnamed: 2\",\"Unnamed: 3\", \"Unnamed: 4\"], axis=1)\n",
    "corpus_data.head()"
   ]
  },
  {
   "cell_type": "markdown",
   "metadata": {},
   "source": [
    "## Removing stopwords and punctuations\n",
    "In Natural Language Processing, a common practice is to remove stopwords and punctuations. Stopwords are common words that are present in almost every text such as \"a, this, the\", etc. We remove these words from our records since they do not provide models any significant information about each text. Along with that, we need to remove punctuation to be able to construct a TF-IDF matrix out of our data set."
   ]
  },
  {
   "cell_type": "code",
   "execution_count": 6,
   "metadata": {},
   "outputs": [
    {
     "data": {
      "text/plain": [
       "'sample message let us see happens sample meassage'"
      ]
     },
     "execution_count": 6,
     "metadata": {},
     "output_type": "execute_result"
    }
   ],
   "source": [
    "def remove_stopwords(sentence):\n",
    "    sentence = sentence.split(' ')\n",
    "    processed_sentence = []\n",
    "    for word in sentence:\n",
    "        no_pun = [char for char in word if char not in string.punctuation]\n",
    "        no_pun = ''.join(no_pun)\n",
    "        processed_sentence.append(no_pun)\n",
    "    processed = [word.lower() for word in processed_sentence if word.lower() not in stopwords.words('english')]\n",
    "    processed = ' '.join(processed)\n",
    "    return processed\n",
    "    \n",
    "stringing = \"This is a sample message. Let us see what happens sample meassage\"\n",
    "remove_stopwords(stringing)"
   ]
  },
  {
   "cell_type": "markdown",
   "metadata": {},
   "source": [
    "In the code block above, we have defined a function to  remove stop-words and punctuation. Something that we do not do in this section but is extremely common is the practice of stemming text. This is the process of reducing words to their most basic version."
   ]
  },
  {
   "cell_type": "code",
   "execution_count": 7,
   "metadata": {},
   "outputs": [],
   "source": [
    "corpus_data[\"v2\"] = corpus_data['v2'].apply(remove_stopwords)"
   ]
  },
  {
   "cell_type": "markdown",
   "metadata": {},
   "source": [
    "In the above code block, we apply the filter function to remove stopwords and punctuations to reduce our data set to processable string of significant words."
   ]
  },
  {
   "cell_type": "markdown",
   "metadata": {},
   "source": [
    "## Creating TF-IDF Matrix\n",
    "(https://www.elephate.com/blog/what-is-tf-idf/)  \n",
    "After we have removed all the stopwords and punctuations from each text in the data set, we now have a data set that we can use to build our TF-IDF matrix. We use TF-IDF algorithm to convert our textual data set into a numerical data set.\n",
    "TF-IDF translates to Term-frequency Inverse-document-frequency which is an algorithm to process text documents. The algorithm takes the word composition of each document and finds the term frequency of each word in the text which the number of times a term occurs in a text. And we calculate the inverse document frequency of a term which is the measure of how much information the term provides which is caluclated as the logarithmic function of the total documents divided by the number of documents that have an occurence of that word. "
   ]
  },
  {
   "cell_type": "code",
   "execution_count": 8,
   "metadata": {},
   "outputs": [],
   "source": [
    "vectorizer = TfidfVectorizer()\n",
    "corpus_tf_idf = vectorizer.fit_transform(corpus_data[\"v2\"])"
   ]
  },
  {
   "cell_type": "markdown",
   "metadata": {},
   "source": [
    "We call TfidfVectorizer on our data set with an ngram range of (1,1). An ngram range of 1,1 means that our tf-idf matrix will have 1grams as minimum and maximum. In a later iteration of our project, we can vary the ngram range to observe how it change the performance of classifier models."
   ]
  },
  {
   "cell_type": "code",
   "execution_count": 9,
   "metadata": {},
   "outputs": [],
   "source": [
    "tf_idf_scores = pd.DataFrame(corpus_tf_idf.todense())\n",
    "tf_idf_scores.columns = vectorizer.get_feature_names()"
   ]
  },
  {
   "cell_type": "code",
   "execution_count": 10,
   "metadata": {},
   "outputs": [
    {
     "data": {
      "text/plain": [
       "(5572, 9376)"
      ]
     },
     "execution_count": 10,
     "metadata": {},
     "output_type": "execute_result"
    }
   ],
   "source": [
    "tf_idf_scores.shape"
   ]
  },
  {
   "cell_type": "code",
   "execution_count": 11,
   "metadata": {},
   "outputs": [],
   "source": [
    "# corpus_data_11 = corpus_data\n",
    "# corpus_data_12 = corpus_data\n",
    "countr = 0\n",
    "for i in vectorizer.get_feature_names():\n",
    "    corpus_data[i] = tf_idf_scores[i]"
   ]
  },
  {
   "cell_type": "code",
   "execution_count": 12,
   "metadata": {},
   "outputs": [
    {
     "data": {
      "text/html": [
       "<div>\n",
       "<style scoped>\n",
       "    .dataframe tbody tr th:only-of-type {\n",
       "        vertical-align: middle;\n",
       "    }\n",
       "\n",
       "    .dataframe tbody tr th {\n",
       "        vertical-align: top;\n",
       "    }\n",
       "\n",
       "    .dataframe thead th {\n",
       "        text-align: right;\n",
       "    }\n",
       "</style>\n",
       "<table border=\"1\" class=\"dataframe\">\n",
       "  <thead>\n",
       "    <tr style=\"text-align: right;\">\n",
       "      <th></th>\n",
       "      <th>v1</th>\n",
       "      <th>v2</th>\n",
       "      <th>008704050406</th>\n",
       "      <th>0089my</th>\n",
       "      <th>0121</th>\n",
       "      <th>01223585236</th>\n",
       "      <th>01223585334</th>\n",
       "      <th>0125698789</th>\n",
       "      <th>02</th>\n",
       "      <th>020603</th>\n",
       "      <th>...</th>\n",
       "      <th>ìï</th>\n",
       "      <th>ìïll</th>\n",
       "      <th>ûthanks</th>\n",
       "      <th>ûªm</th>\n",
       "      <th>ûªt</th>\n",
       "      <th>ûªve</th>\n",
       "      <th>ûï</th>\n",
       "      <th>ûïharry</th>\n",
       "      <th>ûò</th>\n",
       "      <th>ûówell</th>\n",
       "    </tr>\n",
       "  </thead>\n",
       "  <tbody>\n",
       "    <tr>\n",
       "      <th>0</th>\n",
       "      <td>ham</td>\n",
       "      <td>go jurong point crazy available bugis n great ...</td>\n",
       "      <td>0.0</td>\n",
       "      <td>0.0</td>\n",
       "      <td>0.0</td>\n",
       "      <td>0.0</td>\n",
       "      <td>0.0</td>\n",
       "      <td>0.0</td>\n",
       "      <td>0.0</td>\n",
       "      <td>0.0</td>\n",
       "      <td>...</td>\n",
       "      <td>0.0</td>\n",
       "      <td>0.0</td>\n",
       "      <td>0.0</td>\n",
       "      <td>0.0</td>\n",
       "      <td>0.0</td>\n",
       "      <td>0.0</td>\n",
       "      <td>0.0</td>\n",
       "      <td>0.0</td>\n",
       "      <td>0.0</td>\n",
       "      <td>0.0</td>\n",
       "    </tr>\n",
       "    <tr>\n",
       "      <th>1</th>\n",
       "      <td>ham</td>\n",
       "      <td>ok lar joking wif u oni</td>\n",
       "      <td>0.0</td>\n",
       "      <td>0.0</td>\n",
       "      <td>0.0</td>\n",
       "      <td>0.0</td>\n",
       "      <td>0.0</td>\n",
       "      <td>0.0</td>\n",
       "      <td>0.0</td>\n",
       "      <td>0.0</td>\n",
       "      <td>...</td>\n",
       "      <td>0.0</td>\n",
       "      <td>0.0</td>\n",
       "      <td>0.0</td>\n",
       "      <td>0.0</td>\n",
       "      <td>0.0</td>\n",
       "      <td>0.0</td>\n",
       "      <td>0.0</td>\n",
       "      <td>0.0</td>\n",
       "      <td>0.0</td>\n",
       "      <td>0.0</td>\n",
       "    </tr>\n",
       "    <tr>\n",
       "      <th>2</th>\n",
       "      <td>spam</td>\n",
       "      <td>free entry 2 wkly comp win fa cup final tkts 2...</td>\n",
       "      <td>0.0</td>\n",
       "      <td>0.0</td>\n",
       "      <td>0.0</td>\n",
       "      <td>0.0</td>\n",
       "      <td>0.0</td>\n",
       "      <td>0.0</td>\n",
       "      <td>0.0</td>\n",
       "      <td>0.0</td>\n",
       "      <td>...</td>\n",
       "      <td>0.0</td>\n",
       "      <td>0.0</td>\n",
       "      <td>0.0</td>\n",
       "      <td>0.0</td>\n",
       "      <td>0.0</td>\n",
       "      <td>0.0</td>\n",
       "      <td>0.0</td>\n",
       "      <td>0.0</td>\n",
       "      <td>0.0</td>\n",
       "      <td>0.0</td>\n",
       "    </tr>\n",
       "    <tr>\n",
       "      <th>3</th>\n",
       "      <td>ham</td>\n",
       "      <td>u dun say early hor u c already say</td>\n",
       "      <td>0.0</td>\n",
       "      <td>0.0</td>\n",
       "      <td>0.0</td>\n",
       "      <td>0.0</td>\n",
       "      <td>0.0</td>\n",
       "      <td>0.0</td>\n",
       "      <td>0.0</td>\n",
       "      <td>0.0</td>\n",
       "      <td>...</td>\n",
       "      <td>0.0</td>\n",
       "      <td>0.0</td>\n",
       "      <td>0.0</td>\n",
       "      <td>0.0</td>\n",
       "      <td>0.0</td>\n",
       "      <td>0.0</td>\n",
       "      <td>0.0</td>\n",
       "      <td>0.0</td>\n",
       "      <td>0.0</td>\n",
       "      <td>0.0</td>\n",
       "    </tr>\n",
       "    <tr>\n",
       "      <th>4</th>\n",
       "      <td>ham</td>\n",
       "      <td>nah dont think goes usf lives around though</td>\n",
       "      <td>0.0</td>\n",
       "      <td>0.0</td>\n",
       "      <td>0.0</td>\n",
       "      <td>0.0</td>\n",
       "      <td>0.0</td>\n",
       "      <td>0.0</td>\n",
       "      <td>0.0</td>\n",
       "      <td>0.0</td>\n",
       "      <td>...</td>\n",
       "      <td>0.0</td>\n",
       "      <td>0.0</td>\n",
       "      <td>0.0</td>\n",
       "      <td>0.0</td>\n",
       "      <td>0.0</td>\n",
       "      <td>0.0</td>\n",
       "      <td>0.0</td>\n",
       "      <td>0.0</td>\n",
       "      <td>0.0</td>\n",
       "      <td>0.0</td>\n",
       "    </tr>\n",
       "  </tbody>\n",
       "</table>\n",
       "<p>5 rows × 9378 columns</p>\n",
       "</div>"
      ],
      "text/plain": [
       "     v1                                                 v2  008704050406  \\\n",
       "0   ham  go jurong point crazy available bugis n great ...           0.0   \n",
       "1   ham                            ok lar joking wif u oni           0.0   \n",
       "2  spam  free entry 2 wkly comp win fa cup final tkts 2...           0.0   \n",
       "3   ham                u dun say early hor u c already say           0.0   \n",
       "4   ham        nah dont think goes usf lives around though           0.0   \n",
       "\n",
       "   0089my  0121  01223585236  01223585334  0125698789   02  020603   ...    \\\n",
       "0     0.0   0.0          0.0          0.0         0.0  0.0     0.0   ...     \n",
       "1     0.0   0.0          0.0          0.0         0.0  0.0     0.0   ...     \n",
       "2     0.0   0.0          0.0          0.0         0.0  0.0     0.0   ...     \n",
       "3     0.0   0.0          0.0          0.0         0.0  0.0     0.0   ...     \n",
       "4     0.0   0.0          0.0          0.0         0.0  0.0     0.0   ...     \n",
       "\n",
       "    ìï  ìïll  ûthanks  ûªm  ûªt  ûªve   ûï  ûïharry   ûò  ûówell  \n",
       "0  0.0   0.0      0.0  0.0  0.0   0.0  0.0      0.0  0.0     0.0  \n",
       "1  0.0   0.0      0.0  0.0  0.0   0.0  0.0      0.0  0.0     0.0  \n",
       "2  0.0   0.0      0.0  0.0  0.0   0.0  0.0      0.0  0.0     0.0  \n",
       "3  0.0   0.0      0.0  0.0  0.0   0.0  0.0      0.0  0.0     0.0  \n",
       "4  0.0   0.0      0.0  0.0  0.0   0.0  0.0      0.0  0.0     0.0  \n",
       "\n",
       "[5 rows x 9378 columns]"
      ]
     },
     "execution_count": 12,
     "metadata": {},
     "output_type": "execute_result"
    }
   ],
   "source": [
    "corpus_data.head()"
   ]
  },
  {
   "cell_type": "markdown",
   "metadata": {},
   "source": [
    "After converting our matrix to a Tf-idf matrix, we see that our matrix is extremely sparse because of the high occurence of 0 values. This is characteristic of a Tf-idf matrix since some terms out of the whole corpus will never be part of some texts.\n",
    "\n",
    "After converting our text data set into a TF-IDF, we can check for null values as a sanity check to make sure we did not lose any information."
   ]
  },
  {
   "cell_type": "code",
   "execution_count": 13,
   "metadata": {},
   "outputs": [
    {
     "name": "stdout",
     "output_type": "stream",
     "text": [
      "Number of missing values = 0\n"
     ]
    }
   ],
   "source": [
    "df_is_na = corpus_data.isna()\n",
    "no_missing_values = 0\n",
    "for index, row in df_is_na.iterrows():\n",
    "    if(row[1]):\n",
    "        no_missing_values += 1\n",
    "print(\"Number of missing values =\",no_missing_values)"
   ]
  },
  {
   "cell_type": "markdown",
   "metadata": {},
   "source": [
    "The number fo null values in our tf-idf matrix our 0"
   ]
  },
  {
   "cell_type": "code",
   "execution_count": 14,
   "metadata": {},
   "outputs": [
    {
     "data": {
      "text/html": [
       "<div>\n",
       "<style scoped>\n",
       "    .dataframe tbody tr th:only-of-type {\n",
       "        vertical-align: middle;\n",
       "    }\n",
       "\n",
       "    .dataframe tbody tr th {\n",
       "        vertical-align: top;\n",
       "    }\n",
       "\n",
       "    .dataframe thead th {\n",
       "        text-align: right;\n",
       "    }\n",
       "</style>\n",
       "<table border=\"1\" class=\"dataframe\">\n",
       "  <thead>\n",
       "    <tr style=\"text-align: right;\">\n",
       "      <th></th>\n",
       "      <th>v1</th>\n",
       "      <th>008704050406</th>\n",
       "      <th>0089my</th>\n",
       "      <th>0121</th>\n",
       "      <th>01223585236</th>\n",
       "      <th>01223585334</th>\n",
       "      <th>0125698789</th>\n",
       "      <th>02</th>\n",
       "      <th>020603</th>\n",
       "      <th>0207</th>\n",
       "      <th>...</th>\n",
       "      <th>ìï</th>\n",
       "      <th>ìïll</th>\n",
       "      <th>ûthanks</th>\n",
       "      <th>ûªm</th>\n",
       "      <th>ûªt</th>\n",
       "      <th>ûªve</th>\n",
       "      <th>ûï</th>\n",
       "      <th>ûïharry</th>\n",
       "      <th>ûò</th>\n",
       "      <th>ûówell</th>\n",
       "    </tr>\n",
       "  </thead>\n",
       "  <tbody>\n",
       "    <tr>\n",
       "      <th>0</th>\n",
       "      <td>ham</td>\n",
       "      <td>0.0</td>\n",
       "      <td>0.0</td>\n",
       "      <td>0.0</td>\n",
       "      <td>0.0</td>\n",
       "      <td>0.0</td>\n",
       "      <td>0.0</td>\n",
       "      <td>0.0</td>\n",
       "      <td>0.0</td>\n",
       "      <td>0.0</td>\n",
       "      <td>...</td>\n",
       "      <td>0.0</td>\n",
       "      <td>0.0</td>\n",
       "      <td>0.0</td>\n",
       "      <td>0.0</td>\n",
       "      <td>0.0</td>\n",
       "      <td>0.0</td>\n",
       "      <td>0.0</td>\n",
       "      <td>0.0</td>\n",
       "      <td>0.0</td>\n",
       "      <td>0.0</td>\n",
       "    </tr>\n",
       "    <tr>\n",
       "      <th>1</th>\n",
       "      <td>ham</td>\n",
       "      <td>0.0</td>\n",
       "      <td>0.0</td>\n",
       "      <td>0.0</td>\n",
       "      <td>0.0</td>\n",
       "      <td>0.0</td>\n",
       "      <td>0.0</td>\n",
       "      <td>0.0</td>\n",
       "      <td>0.0</td>\n",
       "      <td>0.0</td>\n",
       "      <td>...</td>\n",
       "      <td>0.0</td>\n",
       "      <td>0.0</td>\n",
       "      <td>0.0</td>\n",
       "      <td>0.0</td>\n",
       "      <td>0.0</td>\n",
       "      <td>0.0</td>\n",
       "      <td>0.0</td>\n",
       "      <td>0.0</td>\n",
       "      <td>0.0</td>\n",
       "      <td>0.0</td>\n",
       "    </tr>\n",
       "    <tr>\n",
       "      <th>2</th>\n",
       "      <td>spam</td>\n",
       "      <td>0.0</td>\n",
       "      <td>0.0</td>\n",
       "      <td>0.0</td>\n",
       "      <td>0.0</td>\n",
       "      <td>0.0</td>\n",
       "      <td>0.0</td>\n",
       "      <td>0.0</td>\n",
       "      <td>0.0</td>\n",
       "      <td>0.0</td>\n",
       "      <td>...</td>\n",
       "      <td>0.0</td>\n",
       "      <td>0.0</td>\n",
       "      <td>0.0</td>\n",
       "      <td>0.0</td>\n",
       "      <td>0.0</td>\n",
       "      <td>0.0</td>\n",
       "      <td>0.0</td>\n",
       "      <td>0.0</td>\n",
       "      <td>0.0</td>\n",
       "      <td>0.0</td>\n",
       "    </tr>\n",
       "    <tr>\n",
       "      <th>3</th>\n",
       "      <td>ham</td>\n",
       "      <td>0.0</td>\n",
       "      <td>0.0</td>\n",
       "      <td>0.0</td>\n",
       "      <td>0.0</td>\n",
       "      <td>0.0</td>\n",
       "      <td>0.0</td>\n",
       "      <td>0.0</td>\n",
       "      <td>0.0</td>\n",
       "      <td>0.0</td>\n",
       "      <td>...</td>\n",
       "      <td>0.0</td>\n",
       "      <td>0.0</td>\n",
       "      <td>0.0</td>\n",
       "      <td>0.0</td>\n",
       "      <td>0.0</td>\n",
       "      <td>0.0</td>\n",
       "      <td>0.0</td>\n",
       "      <td>0.0</td>\n",
       "      <td>0.0</td>\n",
       "      <td>0.0</td>\n",
       "    </tr>\n",
       "    <tr>\n",
       "      <th>4</th>\n",
       "      <td>ham</td>\n",
       "      <td>0.0</td>\n",
       "      <td>0.0</td>\n",
       "      <td>0.0</td>\n",
       "      <td>0.0</td>\n",
       "      <td>0.0</td>\n",
       "      <td>0.0</td>\n",
       "      <td>0.0</td>\n",
       "      <td>0.0</td>\n",
       "      <td>0.0</td>\n",
       "      <td>...</td>\n",
       "      <td>0.0</td>\n",
       "      <td>0.0</td>\n",
       "      <td>0.0</td>\n",
       "      <td>0.0</td>\n",
       "      <td>0.0</td>\n",
       "      <td>0.0</td>\n",
       "      <td>0.0</td>\n",
       "      <td>0.0</td>\n",
       "      <td>0.0</td>\n",
       "      <td>0.0</td>\n",
       "    </tr>\n",
       "  </tbody>\n",
       "</table>\n",
       "<p>5 rows × 9377 columns</p>\n",
       "</div>"
      ],
      "text/plain": [
       "     v1  008704050406  0089my  0121  01223585236  01223585334  0125698789  \\\n",
       "0   ham           0.0     0.0   0.0          0.0          0.0         0.0   \n",
       "1   ham           0.0     0.0   0.0          0.0          0.0         0.0   \n",
       "2  spam           0.0     0.0   0.0          0.0          0.0         0.0   \n",
       "3   ham           0.0     0.0   0.0          0.0          0.0         0.0   \n",
       "4   ham           0.0     0.0   0.0          0.0          0.0         0.0   \n",
       "\n",
       "    02  020603  0207   ...     ìï  ìïll  ûthanks  ûªm  ûªt  ûªve   ûï  \\\n",
       "0  0.0     0.0   0.0   ...    0.0   0.0      0.0  0.0  0.0   0.0  0.0   \n",
       "1  0.0     0.0   0.0   ...    0.0   0.0      0.0  0.0  0.0   0.0  0.0   \n",
       "2  0.0     0.0   0.0   ...    0.0   0.0      0.0  0.0  0.0   0.0  0.0   \n",
       "3  0.0     0.0   0.0   ...    0.0   0.0      0.0  0.0  0.0   0.0  0.0   \n",
       "4  0.0     0.0   0.0   ...    0.0   0.0      0.0  0.0  0.0   0.0  0.0   \n",
       "\n",
       "   ûïharry   ûò  ûówell  \n",
       "0      0.0  0.0     0.0  \n",
       "1      0.0  0.0     0.0  \n",
       "2      0.0  0.0     0.0  \n",
       "3      0.0  0.0     0.0  \n",
       "4      0.0  0.0     0.0  \n",
       "\n",
       "[5 rows x 9377 columns]"
      ]
     },
     "execution_count": 14,
     "metadata": {},
     "output_type": "execute_result"
    }
   ],
   "source": [
    "corpus_data = corpus_data.drop(\"v2\", axis=1)\n",
    "corpus_data.head()"
   ]
  },
  {
   "cell_type": "code",
   "execution_count": 15,
   "metadata": {},
   "outputs": [
    {
     "data": {
      "text/plain": [
       "(5572, 9377)"
      ]
     },
     "execution_count": 15,
     "metadata": {},
     "output_type": "execute_result"
    }
   ],
   "source": [
    "corpus_data.shape"
   ]
  },
  {
   "cell_type": "markdown",
   "metadata": {},
   "source": [
    "as we can see, our data set maintains the number of rows. Thus, we retain all the information throughout all the pre-processing.\n",
    "\n",
    "We now proceed to split our data into training and test data sets in the ratio of 8 is to 2."
   ]
  },
  {
   "cell_type": "code",
   "execution_count": 21,
   "metadata": {},
   "outputs": [],
   "source": [
    "corpus = corpus_data.drop(\"v1\", axis=1)\n",
    "training_corpus, test_corpus, training_label, test_label = train_test_split(corpus, corpus_data[\"v1\"], test_size=0.2)"
   ]
  },
  {
   "cell_type": "code",
   "execution_count": 23,
   "metadata": {},
   "outputs": [
    {
     "data": {
      "text/plain": [
       "(1115, 9376)"
      ]
     },
     "execution_count": 23,
     "metadata": {},
     "output_type": "execute_result"
    }
   ],
   "source": [
    "test_corpus.shape"
   ]
  },
  {
   "cell_type": "markdown",
   "metadata": {},
   "source": [
    "## Exploring Class Imbalance\n",
    "For our purposes, we wish to train our models to the best capacity. Thus, we explore our data sets to see if there is a class imbalance. Unchecked class imbalance causes a bias towards the majority class when we run our models to classify and predict test sets.\n",
    "\n",
    "To explore class imbalance, we visualize the two classes in our data set."
   ]
  },
  {
   "cell_type": "code",
   "execution_count": 24,
   "metadata": {
    "scrolled": true
   },
   "outputs": [
    {
     "data": {
      "text/plain": [
       "Text(0,0.5,'number of records')"
      ]
     },
     "execution_count": 24,
     "metadata": {},
     "output_type": "execute_result"
    },
    {
     "data": {
      "image/png": "[encoded data removed]",
      "text/plain": [
       "<Figure size 432x288 with 1 Axes>"
      ]
     },
     "metadata": {},
     "output_type": "display_data"
    }
   ],
   "source": [
    "count_of_ham = training_corpus[training_label == \"ham\"].shape[0]\n",
    "count_of_spam = training_corpus[training_label == \"spam\"].shape[0]\n",
    "plt.bar([\"Ham\", \"Spam\"], height=[count_of_ham, count_of_spam])\n",
    "plt.ylabel(\"number of records\")"
   ]
  },
  {
   "cell_type": "markdown",
   "metadata": {},
   "source": [
    "We observe that there is a clear difference in the number of records that are spam and that are ham in our data set. To deal with this problem, we will run SMOTE on our data set. Synthetic Minority Over-Sampling Technique or SMOTE simulatneously overs-samples the minority class and under-samples the majority class (https://jair.org/index.php/jair/article/view/10302). We run this algorithm on our training data set to obtain the same class count for both the classes."
   ]
  },
  {
   "cell_type": "code",
   "execution_count": 25,
   "metadata": {},
   "outputs": [],
   "source": [
    "sml = smote(random_state=12)\n",
    "X, y = sml.fit_sample(training_corpus, training_label)"
   ]
  },
  {
   "cell_type": "code",
   "execution_count": 26,
   "metadata": {},
   "outputs": [
    {
     "data": {
      "text/plain": [
       "Text(0,0.5,'Number of records')"
      ]
     },
     "execution_count": 26,
     "metadata": {},
     "output_type": "execute_result"
    },
    {
     "data": {
      "image/png": "[encoded data removed]",
      "text/plain": [
       "<Figure size 432x288 with 1 Axes>"
      ]
     },
     "metadata": {},
     "output_type": "display_data"
    }
   ],
   "source": [
    "X = pd.DataFrame(X)\n",
    "X.columns = training_corpus.columns\n",
    "y = pd.DataFrame(y)\n",
    "count_of_ham = y[y[0] == \"ham\"].shape[0]\n",
    "count_of_spam = y[y[0] == \"spam\"].shape[0]\n",
    "plt.bar([\"Ham\", \"Spam\"], height=[count_of_ham, count_of_spam])\n",
    "plt.ylabel(\"Number of records\")"
   ]
  },
  {
   "cell_type": "markdown",
   "metadata": {},
   "source": [
    "After running SMOTE on our data-set, we can observe that the count of ham in our data set and count of spam is the same. We will retain our unbalanced data as well, however, to observe how balancing classes affects the performance of our classifier models."
   ]
  },
  {
   "cell_type": "code",
   "execution_count": 27,
   "metadata": {
    "scrolled": true
   },
   "outputs": [
    {
     "data": {
      "text/html": [
       "<div>\n",
       "<style scoped>\n",
       "    .dataframe tbody tr th:only-of-type {\n",
       "        vertical-align: middle;\n",
       "    }\n",
       "\n",
       "    .dataframe tbody tr th {\n",
       "        vertical-align: top;\n",
       "    }\n",
       "\n",
       "    .dataframe thead th {\n",
       "        text-align: right;\n",
       "    }\n",
       "</style>\n",
       "<table border=\"1\" class=\"dataframe\">\n",
       "  <thead>\n",
       "    <tr style=\"text-align: right;\">\n",
       "      <th></th>\n",
       "      <th>008704050406</th>\n",
       "      <th>0089my</th>\n",
       "      <th>0121</th>\n",
       "      <th>01223585236</th>\n",
       "      <th>01223585334</th>\n",
       "      <th>0125698789</th>\n",
       "      <th>02</th>\n",
       "      <th>020603</th>\n",
       "      <th>0207</th>\n",
       "      <th>02070836089</th>\n",
       "      <th>...</th>\n",
       "      <th>ìï</th>\n",
       "      <th>ìïll</th>\n",
       "      <th>ûthanks</th>\n",
       "      <th>ûªm</th>\n",
       "      <th>ûªt</th>\n",
       "      <th>ûªve</th>\n",
       "      <th>ûï</th>\n",
       "      <th>ûïharry</th>\n",
       "      <th>ûò</th>\n",
       "      <th>ûówell</th>\n",
       "    </tr>\n",
       "  </thead>\n",
       "  <tbody>\n",
       "    <tr>\n",
       "      <th>4359</th>\n",
       "      <td>0.0</td>\n",
       "      <td>0.0</td>\n",
       "      <td>0.0</td>\n",
       "      <td>0.0</td>\n",
       "      <td>0.0</td>\n",
       "      <td>0.0</td>\n",
       "      <td>0.0</td>\n",
       "      <td>0.0</td>\n",
       "      <td>0.0</td>\n",
       "      <td>0.0</td>\n",
       "      <td>...</td>\n",
       "      <td>0.0</td>\n",
       "      <td>0.0</td>\n",
       "      <td>0.0</td>\n",
       "      <td>0.0</td>\n",
       "      <td>0.0</td>\n",
       "      <td>0.0</td>\n",
       "      <td>0.0</td>\n",
       "      <td>0.0</td>\n",
       "      <td>0.0</td>\n",
       "      <td>0.0</td>\n",
       "    </tr>\n",
       "    <tr>\n",
       "      <th>2431</th>\n",
       "      <td>0.0</td>\n",
       "      <td>0.0</td>\n",
       "      <td>0.0</td>\n",
       "      <td>0.0</td>\n",
       "      <td>0.0</td>\n",
       "      <td>0.0</td>\n",
       "      <td>0.0</td>\n",
       "      <td>0.0</td>\n",
       "      <td>0.0</td>\n",
       "      <td>0.0</td>\n",
       "      <td>...</td>\n",
       "      <td>0.0</td>\n",
       "      <td>0.0</td>\n",
       "      <td>0.0</td>\n",
       "      <td>0.0</td>\n",
       "      <td>0.0</td>\n",
       "      <td>0.0</td>\n",
       "      <td>0.0</td>\n",
       "      <td>0.0</td>\n",
       "      <td>0.0</td>\n",
       "      <td>0.0</td>\n",
       "    </tr>\n",
       "    <tr>\n",
       "      <th>1321</th>\n",
       "      <td>0.0</td>\n",
       "      <td>0.0</td>\n",
       "      <td>0.0</td>\n",
       "      <td>0.0</td>\n",
       "      <td>0.0</td>\n",
       "      <td>0.0</td>\n",
       "      <td>0.0</td>\n",
       "      <td>0.0</td>\n",
       "      <td>0.0</td>\n",
       "      <td>0.0</td>\n",
       "      <td>...</td>\n",
       "      <td>0.0</td>\n",
       "      <td>0.0</td>\n",
       "      <td>0.0</td>\n",
       "      <td>0.0</td>\n",
       "      <td>0.0</td>\n",
       "      <td>0.0</td>\n",
       "      <td>0.0</td>\n",
       "      <td>0.0</td>\n",
       "      <td>0.0</td>\n",
       "      <td>0.0</td>\n",
       "    </tr>\n",
       "    <tr>\n",
       "      <th>1410</th>\n",
       "      <td>0.0</td>\n",
       "      <td>0.0</td>\n",
       "      <td>0.0</td>\n",
       "      <td>0.0</td>\n",
       "      <td>0.0</td>\n",
       "      <td>0.0</td>\n",
       "      <td>0.0</td>\n",
       "      <td>0.0</td>\n",
       "      <td>0.0</td>\n",
       "      <td>0.0</td>\n",
       "      <td>...</td>\n",
       "      <td>0.0</td>\n",
       "      <td>0.0</td>\n",
       "      <td>0.0</td>\n",
       "      <td>0.0</td>\n",
       "      <td>0.0</td>\n",
       "      <td>0.0</td>\n",
       "      <td>0.0</td>\n",
       "      <td>0.0</td>\n",
       "      <td>0.0</td>\n",
       "      <td>0.0</td>\n",
       "    </tr>\n",
       "    <tr>\n",
       "      <th>79</th>\n",
       "      <td>0.0</td>\n",
       "      <td>0.0</td>\n",
       "      <td>0.0</td>\n",
       "      <td>0.0</td>\n",
       "      <td>0.0</td>\n",
       "      <td>0.0</td>\n",
       "      <td>0.0</td>\n",
       "      <td>0.0</td>\n",
       "      <td>0.0</td>\n",
       "      <td>0.0</td>\n",
       "      <td>...</td>\n",
       "      <td>0.0</td>\n",
       "      <td>0.0</td>\n",
       "      <td>0.0</td>\n",
       "      <td>0.0</td>\n",
       "      <td>0.0</td>\n",
       "      <td>0.0</td>\n",
       "      <td>0.0</td>\n",
       "      <td>0.0</td>\n",
       "      <td>0.0</td>\n",
       "      <td>0.0</td>\n",
       "    </tr>\n",
       "  </tbody>\n",
       "</table>\n",
       "<p>5 rows × 9376 columns</p>\n",
       "</div>"
      ],
      "text/plain": [
       "      008704050406  0089my  0121  01223585236  01223585334  0125698789   02  \\\n",
       "4359           0.0     0.0   0.0          0.0          0.0         0.0  0.0   \n",
       "2431           0.0     0.0   0.0          0.0          0.0         0.0  0.0   \n",
       "1321           0.0     0.0   0.0          0.0          0.0         0.0  0.0   \n",
       "1410           0.0     0.0   0.0          0.0          0.0         0.0  0.0   \n",
       "79             0.0     0.0   0.0          0.0          0.0         0.0  0.0   \n",
       "\n",
       "      020603  0207  02070836089   ...     ìï  ìïll  ûthanks  ûªm  ûªt  ûªve  \\\n",
       "4359     0.0   0.0          0.0   ...    0.0   0.0      0.0  0.0  0.0   0.0   \n",
       "2431     0.0   0.0          0.0   ...    0.0   0.0      0.0  0.0  0.0   0.0   \n",
       "1321     0.0   0.0          0.0   ...    0.0   0.0      0.0  0.0  0.0   0.0   \n",
       "1410     0.0   0.0          0.0   ...    0.0   0.0      0.0  0.0  0.0   0.0   \n",
       "79       0.0   0.0          0.0   ...    0.0   0.0      0.0  0.0  0.0   0.0   \n",
       "\n",
       "       ûï  ûïharry   ûò  ûówell  \n",
       "4359  0.0      0.0  0.0     0.0  \n",
       "2431  0.0      0.0  0.0     0.0  \n",
       "1321  0.0      0.0  0.0     0.0  \n",
       "1410  0.0      0.0  0.0     0.0  \n",
       "79    0.0      0.0  0.0     0.0  \n",
       "\n",
       "[5 rows x 9376 columns]"
      ]
     },
     "execution_count": 27,
     "metadata": {},
     "output_type": "execute_result"
    }
   ],
   "source": [
    "training_corpus.head()"
   ]
  },
  {
   "cell_type": "markdown",
   "metadata": {},
   "source": [
    "At then end of this section, our data set is extremely high dimensional. In a next iteration of our project, we wish to explore PCA to dimensionally reduce the data set."
   ]
  },
  {
   "cell_type": "markdown",
   "metadata": {},
   "source": [
    "# Models\n",
    "After we pre-process our data and split it into our test and training set, we can now train our models. We, for our purposes, analyse three different models - Logistic Regression, Naïve Bayes and K-Nearest Neighbor. Two out of these three models are parametric models and one out of these three models is non-parametric. By selecting both kinds of models, we are able to analyze which of these kinds also works the best for text classification.\n",
    "## Logistic Regression\n",
    "(http://cs229.stanford.edu/notes/cs229-notes1.pdf)  \n",
    "Logistic regression is a classification model that fits a sigmoid function on a linear regression model to obtain the probability of a sample belonging to a class and classifies test samples in this manner. First, we train our logistic regression model on the unbalanced data set and then we train on our SMOTE'd data set and test both on the test data set."
   ]
  },
  {
   "cell_type": "code",
   "execution_count": 28,
   "metadata": {},
   "outputs": [],
   "source": [
    "lr = LogisticRegression()\n",
    "lr.fit(training_corpus, training_label)\n",
    "labels = lr.predict(test_corpus)"
   ]
  },
  {
   "cell_type": "markdown",
   "metadata": {},
   "source": [
    "### SMOTE"
   ]
  },
  {
   "cell_type": "code",
   "execution_count": 29,
   "metadata": {},
   "outputs": [],
   "source": [
    "lr = LogisticRegression()\n",
    "lr.fit(X, y.values.ravel())\n",
    "labels_sm = lr.predict(test_corpus)"
   ]
  },
  {
   "cell_type": "markdown",
   "metadata": {},
   "source": [
    "## Gaussian Naïve Bayes\n",
    "Gausian Naïve Bayes is a parametric classifier model. It takes the samples and predicts continuous multidimensional Gaussian distributions for each class. It then predicts the class of a test sample based on the conditional probability of the sample belonging to a distribution. It utilizes Bayes theorem to classify data samples."
   ]
  },
  {
   "cell_type": "code",
   "execution_count": 30,
   "metadata": {},
   "outputs": [],
   "source": [
    "nb = GaussianNB()\n",
    "nb.fit(training_corpus, training_label)\n",
    "labels2 = nb.predict(test_corpus)"
   ]
  },
  {
   "cell_type": "markdown",
   "metadata": {},
   "source": [
    "### SMOTE"
   ]
  },
  {
   "cell_type": "code",
   "execution_count": 31,
   "metadata": {},
   "outputs": [],
   "source": [
    "nb = GaussianNB()\n",
    "nb.fit(X, y.values.ravel())\n",
    "labels2_sm = nb.predict(test_corpus)"
   ]
  },
  {
   "cell_type": "markdown",
   "metadata": {},
   "source": [
    "We train our Gaussian Naïve Bayes model on our SMOTE'd data for further analysis."
   ]
  },
  {
   "cell_type": "markdown",
   "metadata": {},
   "source": [
    "## K Nearest Neighbor\n",
    "(https://scikit-learn.org/stable/modules/generated/sklearn.neighbors.DistanceMetric.html)  \n",
    "\n",
    "Out of all three classifier mdoels that we are using to build our spam classifier, K-Nearest Neighbor is the only non-parametric classifier. What this means is that KNN does not derive any parameters from the data set to classify samples unlike Logistic Regression or Naïve Bayes. \n",
    "K-Nearest neighbor algorithm works by classifying a test sample the same classes as its nearest K-neighbors. To analyze how well the algorithm works for our spam classifier, we will be using four distance measures:\n",
    "- Chebyshev distance: max(|x - y|)\n",
    "- Manhattan distance: sum(|x - y|)\n",
    "- Euclidean distance: sqrt(sum((x - y)^2))  \n",
    "\n",
    "These distance measures are used to find the K-nearest neighbors. This can change our final metrics since we are varying the closest neighbors of a sample. We set the K-value to 5 as a default for all models. In a seperate experiment, we would like to experiment with different K values as well."
   ]
  },
  {
   "cell_type": "code",
   "execution_count": 32,
   "metadata": {},
   "outputs": [
    {
     "data": {
      "text/plain": [
       "KNeighborsClassifier(algorithm='auto', leaf_size=30, metric='euclidean',\n",
       "           metric_params=None, n_jobs=1, n_neighbors=5, p=2,\n",
       "           weights='uniform')"
      ]
     },
     "execution_count": 32,
     "metadata": {},
     "output_type": "execute_result"
    }
   ],
   "source": [
    "knn_cheb = KNeighborsClassifier(n_neighbors = 5, metric='chebyshev')\n",
    "knn_man = KNeighborsClassifier(n_neighbors = 5, metric='manhattan')\n",
    "knn_euc = KNeighborsClassifier(n_neighbors = 5, metric='euclidean')\n",
    "knn_cheb.fit(training_corpus, training_label)\n",
    "knn_man.fit(training_corpus, training_label)\n",
    "knn_euc.fit(training_corpus, training_label)"
   ]
  },
  {
   "cell_type": "code",
   "execution_count": 33,
   "metadata": {},
   "outputs": [],
   "source": [
    "labels3_man = knn_man.predict(test_corpus)\n",
    "labels3_cheb = knn_cheb.predict(test_corpus)\n",
    "labels3_euc = knn_euc.predict(test_corpus)"
   ]
  },
  {
   "cell_type": "markdown",
   "metadata": {},
   "source": [
    "In the two code blocks above, we fit our models on our unbalanced training data set and predict values for our test data sets."
   ]
  },
  {
   "cell_type": "markdown",
   "metadata": {},
   "source": [
    "### SMOTE\n",
    "Now, we will train our models on our balanced training data set and predict value on our test data set."
   ]
  },
  {
   "cell_type": "code",
   "execution_count": 34,
   "metadata": {},
   "outputs": [
    {
     "data": {
      "text/plain": [
       "KNeighborsClassifier(algorithm='auto', leaf_size=30, metric='euclidean',\n",
       "           metric_params=None, n_jobs=1, n_neighbors=5, p=2,\n",
       "           weights='uniform')"
      ]
     },
     "execution_count": 34,
     "metadata": {},
     "output_type": "execute_result"
    }
   ],
   "source": [
    "knn_cheb.fit(X, y.values.ravel())\n",
    "knn_man.fit(X, y.values.ravel())\n",
    "knn_euc.fit(X, y.values.ravel())"
   ]
  },
  {
   "cell_type": "code",
   "execution_count": 35,
   "metadata": {},
   "outputs": [],
   "source": [
    "labels3_man_sm = knn_man.predict(test_corpus)\n",
    "labels3_cheb_sm = knn_cheb.predict(test_corpus)\n",
    "labels3_euc_sm = knn_euc.predict(test_corpus)"
   ]
  },
  {
   "cell_type": "markdown",
   "metadata": {},
   "source": [
    "After we have all of our different classification models trained, we move onto our analysis section to analyze all of our different metrics."
   ]
  },
  {
   "cell_type": "markdown",
   "metadata": {},
   "source": [
    "# Analysis\n",
    "This section is for analyzing our metrics for the different models and compare them. For each of our model,we obtain the confusion matrix and observe the overall accuracy of our test data set and the precision, recall score for our two classes which are ham and spam. \n",
    "For our spam classifier, we care more about our precision score and recall score for ham class. For a spam classifier, it is imperative that we do not put ham messages that are not spam into the spam folder or completely block them. The recall score measures how many of our non-spam messages are classified correctly and precision measures how many of our non-spam messages are actually classified as non-spam. We will be measuring the precision and recall of our spam class as well to compare."
   ]
  },
  {
   "cell_type": "markdown",
   "metadata": {},
   "source": [
    "## Logistic Resgression\n",
    "First, we observe metrics of our logistic regression classifier model."
   ]
  },
  {
   "cell_type": "code",
   "execution_count": 36,
   "metadata": {},
   "outputs": [
    {
     "data": {
      "text/plain": [
       "array([[971,   0],\n",
       "       [ 51,  93]])"
      ]
     },
     "execution_count": 36,
     "metadata": {},
     "output_type": "execute_result"
    }
   ],
   "source": [
    "metrics.confusion_matrix(test_label, labels)"
   ]
  },
  {
   "cell_type": "code",
   "execution_count": 37,
   "metadata": {},
   "outputs": [
    {
     "name": "stdout",
     "output_type": "stream",
     "text": [
      "             precision    recall  f1-score   support\n",
      "\n",
      "        ham     0.9501    1.0000    0.9744       971\n",
      "       spam     1.0000    0.6458    0.7848       144\n",
      "\n",
      "avg / total     0.9565    0.9543    0.9499      1115\n",
      "\n",
      "Accuracy is =  0.9542600896860987\n"
     ]
    }
   ],
   "source": [
    "print(metrics.classification_report(test_label, labels, digits=4))\n",
    "print(\"Accuracy is = \", metrics.accuracy_score(test_label, labels))"
   ]
  },
  {
   "cell_type": "markdown",
   "metadata": {},
   "source": [
    "What we observe from the confusion metrics first is that there are 1115 records in our test class, 944 of which are ham and 171 of which are spam. We observe that our accuracy is ~ 0.95 which seems optimal. A precision socre of 0.94 for ham indicated that 94 percent of predicted ham messges are ham and the remaining 6 percent are spam. Thus, when we implement our spam filter, only 6 percent of our predicted non spam messages would be faulty. A recall score of 0.99 indicated that almost all non-spam messages are unblocked which is optimal to maintain a minimal loss of information. The low recall score for spam class can be attributed to the fact that we trained our model on an unbalaned training set which will cause a level of inability in our model to classify the minority class - \"spam\". "
   ]
  },
  {
   "cell_type": "markdown",
   "metadata": {},
   "source": [
    "### SMOTE"
   ]
  },
  {
   "cell_type": "code",
   "execution_count": 38,
   "metadata": {},
   "outputs": [
    {
     "data": {
      "text/plain": [
       "array([[961,  10],\n",
       "       [ 18, 126]])"
      ]
     },
     "execution_count": 38,
     "metadata": {},
     "output_type": "execute_result"
    }
   ],
   "source": [
    "metrics.confusion_matrix(test_label, labels_sm)"
   ]
  },
  {
   "cell_type": "code",
   "execution_count": 39,
   "metadata": {},
   "outputs": [
    {
     "name": "stdout",
     "output_type": "stream",
     "text": [
      "             precision    recall  f1-score   support\n",
      "\n",
      "        ham     0.9816    0.9897    0.9856       971\n",
      "       spam     0.9265    0.8750    0.9000       144\n",
      "\n",
      "avg / total     0.9745    0.9749    0.9746      1115\n",
      "\n",
      "Accuracy is =  0.9748878923766816\n"
     ]
    }
   ],
   "source": [
    "print(metrics.classification_report(test_label, labels_sm, digits=4))\n",
    "print(\"Accuracy is = \", metrics.accuracy_score(test_label, labels_sm))"
   ]
  },
  {
   "cell_type": "markdown",
   "metadata": {},
   "source": [
    "As we compare our balanced model against our unbalanced model, we see that there is a 0.03 increase in accuracy which suggests that balancing the training data set improved our spam filter. By oversampling the minority class, we improve weights for each term in the set of texts. There is a strong increase of 0.25 in our recall score for spam class. This indicates that a significant portion of spams are correctly recognized by our spam filter. \n",
    "Because logistic regression is a paramteric classification model, it derives a set of parameters (weights for each dimension or term) that it uses to classify texts. As we balance our training data set, the model gets a better estimate for all the terms that belong to the spam class and that causes an increase in recall score for spam class. "
   ]
  },
  {
   "cell_type": "markdown",
   "metadata": {},
   "source": [
    "## Gaussian Naïve Bayes"
   ]
  },
  {
   "cell_type": "code",
   "execution_count": 40,
   "metadata": {},
   "outputs": [
    {
     "data": {
      "text/plain": [
       "array([[856, 115],\n",
       "       [ 11, 133]])"
      ]
     },
     "execution_count": 40,
     "metadata": {},
     "output_type": "execute_result"
    }
   ],
   "source": [
    "metrics.confusion_matrix(test_label, labels2)"
   ]
  },
  {
   "cell_type": "code",
   "execution_count": 41,
   "metadata": {},
   "outputs": [
    {
     "name": "stdout",
     "output_type": "stream",
     "text": [
      "             precision    recall  f1-score   support\n",
      "\n",
      "        ham     0.9873    0.8816    0.9314       971\n",
      "       spam     0.5363    0.9236    0.6786       144\n",
      "\n",
      "avg / total     0.9291    0.8870    0.8988      1115\n",
      "\n",
      "Accuracy is =  0.8869955156950673\n"
     ]
    }
   ],
   "source": [
    "print(metrics.classification_report(test_label, labels2, digits=4))\n",
    "print(\"Accuracy is = \", metrics.accuracy_score(test_label, labels2))"
   ]
  },
  {
   "cell_type": "markdown",
   "metadata": {},
   "source": [
    "Right away, we observe a lower accuracy score and a lower recall score for ham class. This indicates that a higher portion of our non-spam messages are blocked by our filter and are classified as false negatives. This is not optimal for a spam filter as blocking non spam messages is a significant loss. This is also reflected in the low precision socre for spam class as almost half of the messages that are blocked are non-spam. \n",
    "For pure conjecture, we can suggest that this happens because of we are using a Gaussian distribution to classify. If we use a multinomial or bernoulli distrbution then we might see different results which is reflected in other works done on this (http://www2.aueb.gr/users/ion/docs/ceas2006_paper.pdf). In a multinomial event model, each term occurence is modelled as a discreet event instead of predicting a continuous distribution which makes a better classifier model for our spam classifier. In the nexxt iteration, this would be something we would wish to explore further."
   ]
  },
  {
   "cell_type": "markdown",
   "metadata": {},
   "source": [
    "### SMOTE"
   ]
  },
  {
   "cell_type": "code",
   "execution_count": 42,
   "metadata": {},
   "outputs": [
    {
     "data": {
      "text/plain": [
       "array([[856, 115],\n",
       "       [ 11, 133]])"
      ]
     },
     "execution_count": 42,
     "metadata": {},
     "output_type": "execute_result"
    }
   ],
   "source": [
    "metrics.confusion_matrix(test_label, labels2_sm)"
   ]
  },
  {
   "cell_type": "code",
   "execution_count": 43,
   "metadata": {},
   "outputs": [
    {
     "name": "stdout",
     "output_type": "stream",
     "text": [
      "             precision    recall  f1-score   support\n",
      "\n",
      "        ham     0.9873    0.8816    0.9314       971\n",
      "       spam     0.5363    0.9236    0.6786       144\n",
      "\n",
      "avg / total     0.9291    0.8870    0.8988      1115\n",
      "\n",
      "Accuracy is =  0.8869955156950673\n"
     ]
    }
   ],
   "source": [
    "print(metrics.classification_report(test_label, labels2_sm, digits=4))\n",
    "print(\"Accuracy is = \", metrics.accuracy_score(test_label, labels2_sm))"
   ]
  },
  {
   "cell_type": "markdown",
   "metadata": {},
   "source": [
    "We do not observe a difference in our metrics after we balance classes which indicates changing the sample size for the classes does not chance the parameters of the guassian distribution. \n",
    "Like we said in the last section, modeling a different Naïve Bayes model will possibly improve our spam filter model. In a future iteration of this project, we would like to explore that."
   ]
  },
  {
   "cell_type": "markdown",
   "metadata": {},
   "source": [
    "## K-Nearest Neighbor\n",
    "After observing both of the parametric classifier models, we now observe K-Nearest neighbor and metrics outputted from that. First, we analyze KNN model on our un-balanced training data set. Since KNN is a non-parametric model, we can hypothesize that we will see a high uprise in metrics after we test on our balanced training model. "
   ]
  },
  {
   "cell_type": "markdown",
   "metadata": {},
   "source": [
    "#### Chebyshev distance\n",
    "Chebyshev distance is measured by finding the maximum distance between two terms out of all the terms common between the two texts. "
   ]
  },
  {
   "cell_type": "code",
   "execution_count": 44,
   "metadata": {},
   "outputs": [
    {
     "data": {
      "text/plain": [
       "array([[933,  38],\n",
       "       [ 83,  61]])"
      ]
     },
     "execution_count": 44,
     "metadata": {},
     "output_type": "execute_result"
    }
   ],
   "source": [
    "metrics.confusion_matrix(test_label, labels3_cheb)"
   ]
  },
  {
   "cell_type": "code",
   "execution_count": 45,
   "metadata": {},
   "outputs": [
    {
     "name": "stdout",
     "output_type": "stream",
     "text": [
      "             precision    recall  f1-score   support\n",
      "\n",
      "        ham     0.9183    0.9609    0.9391       971\n",
      "       spam     0.6162    0.4236    0.5021       144\n",
      "\n",
      "avg / total     0.8793    0.8915    0.8827      1115\n",
      "\n",
      "Accuracy is =  0.8914798206278027\n"
     ]
    }
   ],
   "source": [
    "print(metrics.classification_report(test_label, labels3_cheb, digits=4))\n",
    "print(\"Accuracy is = \", metrics.accuracy_score(test_label, labels3_cheb))"
   ]
  },
  {
   "cell_type": "markdown",
   "metadata": {},
   "source": [
    "Right away, we observe a lower accuracy that both of our parametric models which is a clear indication of how having an unbalanced data set impacts our model. A low precision and recall value for the spam class is because the training set does not have as many spam samples. We still obtain a high recall and precision for ham messages. Out of our unblocked messages, 89 percent are ham messages and 88 percent of our ham messages are relayed. However, more than 50 percent of our spam messages are misclassified. "
   ]
  },
  {
   "cell_type": "markdown",
   "metadata": {},
   "source": [
    "#### Manhattan distance\n",
    "Manhattan distance is taken by summing the distance between all of the terms between the two documents. "
   ]
  },
  {
   "cell_type": "code",
   "execution_count": 46,
   "metadata": {},
   "outputs": [
    {
     "data": {
      "text/plain": [
       "array([[971,   0],\n",
       "       [103,  41]])"
      ]
     },
     "execution_count": 46,
     "metadata": {},
     "output_type": "execute_result"
    }
   ],
   "source": [
    "metrics.confusion_matrix(test_label, labels3_man)"
   ]
  },
  {
   "cell_type": "code",
   "execution_count": 47,
   "metadata": {},
   "outputs": [
    {
     "name": "stdout",
     "output_type": "stream",
     "text": [
      "             precision    recall  f1-score   support\n",
      "\n",
      "        ham     0.9041    1.0000    0.9496       971\n",
      "       spam     1.0000    0.2847    0.4432       144\n",
      "\n",
      "avg / total     0.9165    0.9076    0.8842      1115\n",
      "\n",
      "Accuracy is =  0.9076233183856502\n"
     ]
    }
   ],
   "source": [
    "print(metrics.classification_report(test_label, labels3_man, digits=4))\n",
    "print(\"Accuracy is = \", metrics.accuracy_score(test_label, labels3_man))"
   ]
  },
  {
   "cell_type": "markdown",
   "metadata": {},
   "source": [
    "We observe a better accuracy when we measure similarity through Manhattan distance but we also observe an extremely low recall value for recall for spam class. This is because 125 of spam messages are not caught by the spam filter and are misclassified. We see a 100 percent precision for spams and recall for hams which indicates that none of actual ham messages are misclassified as spam."
   ]
  },
  {
   "cell_type": "markdown",
   "metadata": {},
   "source": [
    "#### Euclidean distance\n",
    "Euclidean distance measure is the same as Manhattan except distance is calculated in a 2-norm space."
   ]
  },
  {
   "cell_type": "code",
   "execution_count": 48,
   "metadata": {},
   "outputs": [
    {
     "data": {
      "text/plain": [
       "array([[971,   0],\n",
       "       [104,  40]])"
      ]
     },
     "execution_count": 48,
     "metadata": {},
     "output_type": "execute_result"
    }
   ],
   "source": [
    "metrics.confusion_matrix(test_label, labels3_euc)"
   ]
  },
  {
   "cell_type": "code",
   "execution_count": 49,
   "metadata": {},
   "outputs": [
    {
     "name": "stdout",
     "output_type": "stream",
     "text": [
      "             precision    recall  f1-score   support\n",
      "\n",
      "        ham     0.9033    1.0000    0.9492       971\n",
      "       spam     1.0000    0.2778    0.4348       144\n",
      "\n",
      "avg / total     0.9158    0.9067    0.8827      1115\n",
      "\n",
      "Accuracy is =  0.9067264573991032\n"
     ]
    }
   ],
   "source": [
    "print(metrics.classification_report(test_label, labels3_euc, digits=4))\n",
    "print(\"Accuracy is = \", metrics.accuracy_score(test_label, labels3_euc))"
   ]
  },
  {
   "cell_type": "markdown",
   "metadata": {},
   "source": [
    "We see metrics almost the same as Manhattan which is an indication of the similarity between the ways distance is calculated between two different samples.\n",
    "\n",
    "Throughout all of our different KNN models, we see a consistent decrease in the precision and recall values for spam class. This is a direct result of training our models on an unbalanced data set. Because we have a major class and a minor class in our training data set, our model has a strong bias towards the majority class. Thus, more than half of spam samples are misclassified. "
   ]
  },
  {
   "cell_type": "markdown",
   "metadata": {},
   "source": [
    "### SMOTE\n",
    "We also trained our KNN models on balanced training models and we can analyze if our hypothesis was correct and we see an increase in the accuracy and precision and recall from the test results. "
   ]
  },
  {
   "cell_type": "markdown",
   "metadata": {},
   "source": [
    "#### Chebyshev distance"
   ]
  },
  {
   "cell_type": "code",
   "execution_count": 50,
   "metadata": {},
   "outputs": [
    {
     "data": {
      "text/plain": [
       "array([[901,  70],\n",
       "       [ 69,  75]])"
      ]
     },
     "execution_count": 50,
     "metadata": {},
     "output_type": "execute_result"
    }
   ],
   "source": [
    "metrics.confusion_matrix(test_label, labels3_cheb_sm)"
   ]
  },
  {
   "cell_type": "code",
   "execution_count": 51,
   "metadata": {},
   "outputs": [
    {
     "name": "stdout",
     "output_type": "stream",
     "text": [
      "             precision    recall  f1-score   support\n",
      "\n",
      "        ham     0.9289    0.9279    0.9284       971\n",
      "       spam     0.5172    0.5208    0.5190       144\n",
      "\n",
      "avg / total     0.8757    0.8753    0.8755      1115\n",
      "\n",
      "Accuracy is =  0.8753363228699551\n"
     ]
    }
   ],
   "source": [
    "print(metrics.classification_report(test_label, labels3_cheb_sm, digits=4))\n",
    "print(\"Accuracy is = \", metrics.accuracy_score(test_label, labels3_cheb_sm))"
   ]
  },
  {
   "cell_type": "markdown",
   "metadata": {},
   "source": [
    "We see an increase in the recall scores for our model here as well but not as large as for Manhattan distance which might be a result of the fact that Chebyshev distance measures the maximum distance between two term tf-idf values which does not account for other words. This indicates that Chebyshev might be a poor distance measure for, measuring similarity between texts regardless. We still observe an increase in the accuracy score of the model."
   ]
  },
  {
   "cell_type": "markdown",
   "metadata": {},
   "source": [
    "#### Manhattan distance"
   ]
  },
  {
   "cell_type": "code",
   "execution_count": 52,
   "metadata": {},
   "outputs": [
    {
     "data": {
      "text/plain": [
       "array([[971,   0],\n",
       "       [ 52,  92]])"
      ]
     },
     "execution_count": 52,
     "metadata": {},
     "output_type": "execute_result"
    }
   ],
   "source": [
    "metrics.confusion_matrix(test_label, labels3_man_sm)"
   ]
  },
  {
   "cell_type": "code",
   "execution_count": 53,
   "metadata": {},
   "outputs": [
    {
     "name": "stdout",
     "output_type": "stream",
     "text": [
      "             precision    recall  f1-score   support\n",
      "\n",
      "        ham     0.9492    1.0000    0.9739       971\n",
      "       spam     1.0000    0.6389    0.7797       144\n",
      "\n",
      "avg / total     0.9557    0.9534    0.9488      1115\n",
      "\n",
      "Accuracy is =  0.9533632286995516\n"
     ]
    }
   ],
   "source": [
    "print(metrics.classification_report(test_label, labels3_man_sm, digits=4))\n",
    "print(\"Accuracy is = \", metrics.accuracy_score(test_label, labels3_man_sm))"
   ]
  },
  {
   "cell_type": "markdown",
   "metadata": {},
   "source": [
    "We see a significant increase of in the recall value for spam class and the precision value for ham class. This indicated that after we balanced our training data, our model now has a stronger capability to distniguish which samples are spam."
   ]
  },
  {
   "cell_type": "markdown",
   "metadata": {},
   "source": [
    "#### Euclidean distance"
   ]
  },
  {
   "cell_type": "code",
   "execution_count": 54,
   "metadata": {},
   "outputs": [
    {
     "data": {
      "text/plain": [
       "array([[970,   1],\n",
       "       [ 46,  98]])"
      ]
     },
     "execution_count": 54,
     "metadata": {},
     "output_type": "execute_result"
    }
   ],
   "source": [
    "metrics.confusion_matrix(test_label, labels3_euc_sm)"
   ]
  },
  {
   "cell_type": "code",
   "execution_count": 55,
   "metadata": {},
   "outputs": [
    {
     "name": "stdout",
     "output_type": "stream",
     "text": [
      "             precision    recall  f1-score   support\n",
      "\n",
      "        ham     0.9547    0.9990    0.9763       971\n",
      "       spam     0.9899    0.6806    0.8066       144\n",
      "\n",
      "avg / total     0.9593    0.9578    0.9544      1115\n",
      "\n",
      "Accuracy is =  0.957847533632287\n"
     ]
    }
   ],
   "source": [
    "print(metrics.classification_report(test_label, labels3_euc_sm, digits=4))\n",
    "print(\"Accuracy is = \", metrics.accuracy_score(test_label, labels3_euc_sm))"
   ]
  },
  {
   "cell_type": "markdown",
   "metadata": {},
   "source": [
    "With the significant increase in the accuracy score, we also observe an increase in the recall value for spam. A good hundred percent of our ham messages make it through the filter and 94 percent of our ham messages are true ham messages. That is acceptable for our model. However, 33 percent of spam messages make it past the filter and are misclassified as ham messages.\n",
    "\n",
    "From the metrics that we obtained from all of our models, we see that accuracy score increases by a lot for KNN when the data is balanced. \n",
    "\n",
    "## Comparison of metrics"
   ]
  },
  {
   "cell_type": "code",
   "execution_count": 56,
   "metadata": {},
   "outputs": [
    {
     "data": {
      "image/png": "[encoded data removed]",
      "text/plain": [
       "<Figure size 432x288 with 1 Axes>"
      ]
     },
     "metadata": {},
     "output_type": "display_data"
    }
   ],
   "source": [
    "data_x = [metrics.precision_score(test_label, labels, pos_label=\"ham\"),\n",
    "         metrics.precision_score(test_label, labels_sm, pos_label=\"ham\"),\n",
    "         metrics.precision_score(test_label, labels2, pos_label=\"ham\"),\n",
    "         metrics.precision_score(test_label, labels2_sm, pos_label=\"ham\"),\n",
    "         metrics.precision_score(test_label, labels3_cheb, pos_label=\"ham\"),\n",
    "         metrics.precision_score(test_label, labels3_cheb_sm, pos_label=\"ham\"),\n",
    "         metrics.precision_score(test_label, labels3_euc, pos_label=\"ham\"),\n",
    "         metrics.precision_score(test_label, labels3_euc_sm, pos_label=\"ham\"),\n",
    "         metrics.precision_score(test_label, labels3_man, pos_label=\"ham\"),\n",
    "         metrics.precision_score(test_label, labels3_man_sm, pos_label=\"ham\")]\n",
    "\n",
    "data_y = [metrics.recall_score(test_label, labels, pos_label=\"ham\"),\n",
    "         metrics.recall_score(test_label, labels_sm, pos_label=\"ham\"),\n",
    "         metrics.recall_score(test_label, labels2, pos_label=\"ham\"),\n",
    "         metrics.recall_score(test_label, labels2_sm, pos_label=\"ham\"),\n",
    "         metrics.recall_score(test_label, labels3_cheb, pos_label=\"ham\"),\n",
    "         metrics.recall_score(test_label, labels3_cheb_sm, pos_label=\"ham\"),\n",
    "         metrics.recall_score(test_label, labels3_euc, pos_label=\"ham\"),\n",
    "         metrics.recall_score(test_label, labels3_euc_sm, pos_label=\"ham\"),\n",
    "         metrics.recall_score(test_label, labels3_man, pos_label=\"ham\"),\n",
    "         metrics.recall_score(test_label, labels3_man_sm, pos_label=\"ham\")]\n",
    "\n",
    "colors = np.random.rand(10)\n",
    "n = [1,2,3,4,5,6,7,8,9,0]\n",
    "fig, ax = plt.subplots()\n",
    "area = [500 * value for value in data_x]\n",
    "ax.scatter(data_x, data_y, c=colors, s = area ,alpha=0.5)\n",
    "ax.set_xlabel(\"Ham Precision Score\")\n",
    "ax.set_ylabel(\"Ham Recall Score\")\n",
    "label = [\"logR\", \"logR_SMOTE\", \"GNB\", \"GNB_SMOTE\",\n",
    "          \"KNN_Cheby\", \"KNN_Cheby_SMOTE\", \"KNN_Euc\", \"KNN_Euc_SMOTE\", \"KNN_Man\", \"KNN_Man_SMOTE\"]\n",
    "c = 0\n",
    "for i in label:\n",
    "    ax.annotate(i, (data_x[c], data_y[c]))\n",
    "    c = c + 1"
   ]
  },
  {
   "cell_type": "markdown",
   "metadata": {},
   "source": [
    "As we plot the precision score and recall score for all of our models, we see that logistic regression performs the best since it has the best combination of the two after we train it on our SMOTE data. All the KNN models except for those calculated with the Chebyshev distance have a 100 percent recall when we train them on SMOTE data."
   ]
  },
  {
   "cell_type": "code",
   "execution_count": 57,
   "metadata": {
    "scrolled": true
   },
   "outputs": [
    {
     "data": {
      "image/png": "[encoded data removed]",
      "text/plain": [
       "<Figure size 432x288 with 1 Axes>"
      ]
     },
     "metadata": {},
     "output_type": "display_data"
    }
   ],
   "source": [
    "data_x = [metrics.precision_score(test_label, labels, pos_label=\"spam\"),\n",
    "         metrics.precision_score(test_label, labels_sm, pos_label=\"spam\"),\n",
    "         metrics.precision_score(test_label, labels2, pos_label=\"spam\"),\n",
    "         metrics.precision_score(test_label, labels2_sm, pos_label=\"spam\"),\n",
    "         metrics.precision_score(test_label, labels3_cheb, pos_label=\"spam\"),\n",
    "         metrics.precision_score(test_label, labels3_cheb_sm, pos_label=\"spam\"),\n",
    "         metrics.precision_score(test_label, labels3_euc, pos_label=\"spam\"),\n",
    "         metrics.precision_score(test_label, labels3_euc_sm, pos_label=\"spam\"),\n",
    "         metrics.precision_score(test_label, labels3_man, pos_label=\"spam\"),\n",
    "         metrics.precision_score(test_label, labels3_man_sm, pos_label=\"spam\")]\n",
    "\n",
    "data_y = [metrics.recall_score(test_label, labels, pos_label=\"spam\"),\n",
    "         metrics.recall_score(test_label, labels_sm, pos_label=\"spam\"),\n",
    "         metrics.recall_score(test_label, labels2, pos_label=\"spam\"),\n",
    "         metrics.recall_score(test_label, labels2_sm, pos_label=\"spam\"),\n",
    "         metrics.recall_score(test_label, labels3_cheb, pos_label=\"spam\"),\n",
    "         metrics.recall_score(test_label, labels3_cheb_sm, pos_label=\"spam\"),\n",
    "         metrics.recall_score(test_label, labels3_euc, pos_label=\"spam\"),\n",
    "         metrics.recall_score(test_label, labels3_euc_sm, pos_label=\"spam\"),\n",
    "         metrics.recall_score(test_label, labels3_man, pos_label=\"spam\"),\n",
    "         metrics.recall_score(test_label, labels3_man_sm, pos_label=\"spam\")]\n",
    "\n",
    "colors = np.random.rand(10)\n",
    "n = [1,2,3,4,5,6,7,8,9,0]\n",
    "fig, ax = plt.subplots()\n",
    "area = [500 * value for value in data_x]\n",
    "ax.scatter(data_x, data_y, c=colors, s = area ,alpha=0.5)\n",
    "ax.set_xlabel(\"Spam Precision Score\")\n",
    "ax.set_ylabel(\"Spam Recall Score\")\n",
    "label = [\"logR\", \"logR_SMOTE\", \"GNB\", \"GNB_SMOTE\",\n",
    "          \"KNN_Cheby\", \"KNN_Cheby_SMOTE\", \"KNN_Euc\", \"KNN_Euc_SMOTE\", \"KNN_Man\", \"KNN_Man_SMOTE\"]\n",
    "c = 0\n",
    "for i in label:\n",
    "    ax.annotate(i, (data_x[c], data_y[c]))\n",
    "    c = c + 1"
   ]
  },
  {
   "cell_type": "markdown",
   "metadata": {},
   "source": [
    "From our plots for precision and recall for spam class, we observe that Logistic Regression perfomrs better than all models if we think about it in terms of a combination of the two. The logistic regression model that is trained on an unbalanced data set and majortiy of the KNN models bar the Chebyshev distance KNN model all have a good spam precision score but have a low spam recall score. Similarly, Gaussian Naïve Bayes models and KNN models with a Chebyshev distance mesaure has a higher spam recall score but a lower spam recall score."
   ]
  },
  {
   "cell_type": "markdown",
   "metadata": {},
   "source": [
    "# Conclusion"
   ]
  },
  {
   "cell_type": "markdown",
   "metadata": {},
   "source": [
    "By running our analysis, we observe the following:\n",
    "- TF-IDF matrix is a sparse matrix\n",
    "- Logisitc regression model performs optimally with an unbalanced training data set but performs better with a balanced training data set. We obtained a high positive precision and recall score. \n",
    "- Gaussian Naïve Bayes is not the most optimal Naïve Bayes algorithm to use for building a spam filter because it derives a continuous Gaussian distribution instead of a discreet distribution like Multinomial or Bernoulli. We observe a lowe rpositive recall score which is not optimal.\n",
    "- KNN, being a non-parametric model performs better with a more balanced training data set and Chebyshev distance is not optimal to use as a distance measure for our K-Nearest NEighbor model.\n",
    "\n",
    "## Future Iteration\n",
    "For furture iterations, we would like to explore the following analyses:\n",
    "- Explore stemming our messages and see how that affects performance of models\n",
    "- Reduce the dimensionality of the TF-IDF matrix by implementing dimensionality reduction techniques such as PCA to see if noise is reduced\n",
    "- Explore other N-gram ranges for our TF-IDf matrix\n",
    "- Explore Multinomial or Bernoulli Naïve Bayes models\n",
    "- Explore different K-values for KNN across different distance measures."
   ]
  },
  {
   "cell_type": "markdown",
   "metadata": {},
   "source": [
    "<h3> References: </h3>\n",
    "1. To train our models, we use a spam SMS collection data set obtained from https://www.kaggle.com/uciml/sms-spam-collection-dataset/home, https://archive.ics.uci.edu/ml/datasets/SMS+Spam+Collection\n",
    "2. For documentation of distance metrics https://scikit-learn.org/stable/modules/generated/sklearn.neighbors.DistanceMetric.html\n",
    "3. Metrics explanation: https://developers.google.com/machine-learning/crash-course/classification/precision-and-recall\n",
    "4. Naïve Bayes analysis: http://www2.aueb.gr/users/ion/docs/ceas2006_paper.pdf\n",
    "5. Information about TF-IDF: https://www.elephate.com/blog/what-is-tf-idf/\n",
    "6. Information about Logistic Regression: http://cs229.stanford.edu/notes/cs229-notes1.pdf\n",
    "7. Used as coding reference: http://nbviewer.jupyter.org/github/andressotov/News-Categorization-MNB/blob/master/News_Categorization_MNB%2010-oct-2017.ipynb\n",
    "8. Used for refering to usages: https://www.kaggle.com/madpiano/spam-sms-classification-using-knn"
   ]
  },
  {
   "cell_type": "code",
   "execution_count": null,
   "metadata": {},
   "outputs": [],
   "source": []
  },
  {
   "cell_type": "code",
   "execution_count": null,
   "metadata": {},
   "outputs": [],
   "source": []
  }
 ],
 "metadata": {
  "kernelspec": {
   "display_name": "Python 3",
   "language": "python",
   "name": "python3"
  },
  "language_info": {
   "codemirror_mode": {
    "name": "ipython",
    "version": 3
   },
   "file_extension": ".py",
   "mimetype": "text/x-python",
   "name": "python",
   "nbconvert_exporter": "python",
   "pygments_lexer": "ipython3",
   "version": "3.6.5"
  }
 },
 "nbformat": 4,
 "nbformat_minor": 2
}
